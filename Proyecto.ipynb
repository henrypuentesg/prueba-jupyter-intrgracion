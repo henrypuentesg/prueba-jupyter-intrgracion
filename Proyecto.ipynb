{
 "cells": [
  {
   "cell_type": "markdown",
   "metadata": {
    "id": "sA77mYqxK1c7"
   },
   "source": [
    "Proyecto DS4A- E- COMMERCE"
   ]
  },
  {
   "cell_type": "code",
   "execution_count": 1,
   "metadata": {
    "id": "MlG07MbXK1c7"
   },
   "outputs": [],
   "source": [
    "# Import the Pandas package\n",
    "import pandas as pd\n",
    "\n",
    "# Import the NumPy package\n",
    "import numpy as np\n",
    "import matplotlib.pyplot as plt\n",
    "import seaborn as sns\n",
    "import unicodedata as unicode\n",
    "import statsmodels.api as sm\n",
    "from statsmodels.formula.api import ols\n",
    "import statsmodels.formula.api as sm\n",
    "import statsmodels\n",
    "from scipy import stats\n",
    "from pingouin import pairwise_ttests\n",
    "import snowflake.connector\n",
    "import os\n",
    "from scipy.stats import chi2_contingency"
   ]
  },
  {
   "cell_type": "markdown",
   "metadata": {
    "id": "Kv4-j4xUK1c7"
   },
   "source": [
    "## 1. Import Datasets "
   ]
  },
  {
   "cell_type": "code",
   "execution_count": 2,
   "metadata": {
    "id": "IY2ziW3dK1c7"
   },
   "outputs": [],
   "source": [
    "customers_dataset = pd.read_csv(\"Data/olist_customers_dataset.csv\")#\n",
    "geolocation_dataset = pd.read_csv(\"Data/olist_geolocation_dataset.csv\")\n",
    "order_items_dataset = pd.read_csv(\"Data/olist_order_items_dataset.csv\")#\n",
    "#order_payments_dataset = pd.read_csv(\"data/olist_order_payments_dataset.csv\")\n",
    "order_reviews_dataset = pd.read_csv(\"Data/olist_order_reviews_dataset.csv\")#\n",
    "orders_dataset = pd.read_csv(\"Data/olist_orders_dataset.csv\")#\n",
    "products_dataset = pd.read_csv(\"Data/olist_products_dataset.csv\")#\n",
    "seller_dataset = pd.read_csv(\"Data/olist_sellers_dataset.csv\")#\n",
    "product_category_name_translation = pd.read_csv(\"Data/product_category_name_translation.csv\")#\n"
   ]
  },
  {
   "cell_type": "markdown",
   "metadata": {
    "id": "d_HWr1rYK1c7"
   },
   "source": [
    "![Captura.PNG](attachment:Captura.PNG)"
   ]
  },
  {
   "cell_type": "markdown",
   "metadata": {
    "id": "khrxd8ADK1c8"
   },
   "source": [
    "data set that contain the id, unique id, the zip code, the citya and the state of the costumer\n"
   ]
  },
  {
   "cell_type": "markdown",
   "metadata": {
    "id": "d-zHgrZjK1c8"
   },
   "source": [
    "## 2. join the data sets and creade stadistics KPI'S\n"
   ]
  },
  {
   "cell_type": "code",
   "execution_count": 3,
   "metadata": {
    "id": "pSia-xaSK1c8"
   },
   "outputs": [],
   "source": [
    "df_orders = pd.merge(customers_dataset,orders_dataset, how = \"left\", left_on = \"customer_id\", right_on = \"customer_id\")\n",
    "df_orders = pd.merge(df_orders,order_reviews_dataset, how = \"left\", left_on = \"order_id\", right_on = \"order_id\")\n",
    "#df_orders = pd.merge(mg_dataset2,seller_dataset,how = \"left\", left_on = \"seller_id\", right_on = \"seller_id\")\n",
    "#mg_dataset2 = pd.merge(mg_dataset1,order_payments_dataset, how = \"left\", left_on =\"order_id\",right_on =\"order_id\")\n",
    "#mg_dataset3 = pd.merge(mg_dataset2,order_reviews_dataset, how = \"left\", left_on = \"order_id\", right_on = \"order_id\")\n",
    "#mg_dataset4 = pd.merge(mg_dataset3,order_items_dataset,how = \"left\", left_on = \"order_id\", right_on = \"order_id\")\n",
    "#mg_dataset5 = pd.merge(mg_dataset4,products_dataset,how = \"left\", left_on = \"product_id\", right_on = \"product_id\")\n",
    "#df = pd.merge(mg_dataset5,seller_dataset,how = \"left\", left_on = \"seller_id\", right_on = \"seller_id\")\n",
    "#df = pd.merge(mg_dataset6,geolocation_dataset, how = \"left\", left_on = \"customer_zip_code_prefix\", right_on = \"geolocation_zip_code_prefix\")\n",
    "df_items=pd.merge(order_items_dataset,products_dataset,how='left',left_on='product_id',right_on='product_id')\n",
    "df_items=pd.merge(df_items,product_category_name_translation,how='left',left_on='product_category_name',right_on='product_category_name')\n",
    "df_items=pd.merge(df_items,seller_dataset,how='left',left_on='seller_id',right_on='seller_id')\n",
    "\n"
   ]
  },
  {
   "cell_type": "code",
   "execution_count": 4,
   "metadata": {},
   "outputs": [
    {
     "data": {
      "text/plain": [
       "array(['sao paulo', 'sao bernardo do campo', 'jundiai', ...,\n",
       "       'floriano peixoto', 'erebango', 'santa cecilia do sul'],\n",
       "      dtype=object)"
      ]
     },
     "execution_count": 4,
     "metadata": {},
     "output_type": "execute_result"
    }
   ],
   "source": [
    "\n",
    "\n",
    "geolocation_dataset['geolocation_city']=geolocation_dataset['geolocation_city'].apply(lambda x: unicode.normalize('NFKD',x).encode(\"ascii\",\"ignore\").decode(\"ascii\"))\n",
    "geolocation_dataset['geolocation_city'].unique()\n"
   ]
  },
  {
   "cell_type": "code",
   "execution_count": 5,
   "metadata": {},
   "outputs": [
    {
     "data": {
      "text/html": [
       "<div>\n",
       "<style scoped>\n",
       "    .dataframe tbody tr th:only-of-type {\n",
       "        vertical-align: middle;\n",
       "    }\n",
       "\n",
       "    .dataframe tbody tr th {\n",
       "        vertical-align: top;\n",
       "    }\n",
       "\n",
       "    .dataframe thead th {\n",
       "        text-align: right;\n",
       "    }\n",
       "</style>\n",
       "<table border=\"1\" class=\"dataframe\">\n",
       "  <thead>\n",
       "    <tr style=\"text-align: right;\">\n",
       "      <th></th>\n",
       "      <th>geolocation_zip_code_prefix</th>\n",
       "      <th>geolocation_lat</th>\n",
       "      <th>geolocation_lng</th>\n",
       "      <th>geolocation_city</th>\n",
       "      <th>geolocation_state</th>\n",
       "    </tr>\n",
       "  </thead>\n",
       "  <tbody>\n",
       "    <tr>\n",
       "      <th>0</th>\n",
       "      <td>1001</td>\n",
       "      <td>-23.550190</td>\n",
       "      <td>-46.634024</td>\n",
       "      <td>sao paulo</td>\n",
       "      <td>SP</td>\n",
       "    </tr>\n",
       "    <tr>\n",
       "      <th>1</th>\n",
       "      <td>1002</td>\n",
       "      <td>-23.548146</td>\n",
       "      <td>-46.634979</td>\n",
       "      <td>sao paulo</td>\n",
       "      <td>SP</td>\n",
       "    </tr>\n",
       "    <tr>\n",
       "      <th>2</th>\n",
       "      <td>1003</td>\n",
       "      <td>-23.548994</td>\n",
       "      <td>-46.635731</td>\n",
       "      <td>sao paulo</td>\n",
       "      <td>SP</td>\n",
       "    </tr>\n",
       "    <tr>\n",
       "      <th>3</th>\n",
       "      <td>1004</td>\n",
       "      <td>-23.549799</td>\n",
       "      <td>-46.634757</td>\n",
       "      <td>sao paulo</td>\n",
       "      <td>SP</td>\n",
       "    </tr>\n",
       "    <tr>\n",
       "      <th>4</th>\n",
       "      <td>1005</td>\n",
       "      <td>-23.549456</td>\n",
       "      <td>-46.636733</td>\n",
       "      <td>sao paulo</td>\n",
       "      <td>SP</td>\n",
       "    </tr>\n",
       "  </tbody>\n",
       "</table>\n",
       "</div>"
      ],
      "text/plain": [
       "   geolocation_zip_code_prefix  geolocation_lat  geolocation_lng  \\\n",
       "0                         1001       -23.550190       -46.634024   \n",
       "1                         1002       -23.548146       -46.634979   \n",
       "2                         1003       -23.548994       -46.635731   \n",
       "3                         1004       -23.549799       -46.634757   \n",
       "4                         1005       -23.549456       -46.636733   \n",
       "\n",
       "  geolocation_city geolocation_state  \n",
       "0        sao paulo                SP  \n",
       "1        sao paulo                SP  \n",
       "2        sao paulo                SP  \n",
       "3        sao paulo                SP  \n",
       "4        sao paulo                SP  "
      ]
     },
     "execution_count": 5,
     "metadata": {},
     "output_type": "execute_result"
    }
   ],
   "source": [
    "maxlat=5.25\n",
    "minlat=-33.75\n",
    "minlng=-74\n",
    "maxlng=-29\n",
    "geolocation_dataset=geolocation_dataset.drop(geolocation_dataset[(geolocation_dataset['geolocation_lat']>maxlat) | (geolocation_dataset['geolocation_lat']<minlat)|(geolocation_dataset['geolocation_lng']>maxlng) | (geolocation_dataset['geolocation_lng']<minlng)].index)\n",
    "df_geo=geolocation_dataset.groupby('geolocation_zip_code_prefix').aggregate({'geolocation_lat':'mean','geolocation_lng':'mean'})\n",
    "temp=geolocation_dataset.groupby(['geolocation_zip_code_prefix','geolocation_city','geolocation_state']).count().reset_index()\n",
    "\n",
    "df_geo=df_geo.merge(temp[['geolocation_zip_code_prefix','geolocation_city','geolocation_state']],how='left',on='geolocation_zip_code_prefix')\n",
    "df_geo.head()"
   ]
  },
  {
   "cell_type": "code",
   "execution_count": 6,
   "metadata": {},
   "outputs": [],
   "source": [
    "df_orders=df_orders.merge(df_geo,how='left',right_on='geolocation_zip_code_prefix',left_on='customer_zip_code_prefix')\n"
   ]
  },
  {
   "cell_type": "code",
   "execution_count": 7,
   "metadata": {},
   "outputs": [],
   "source": [
    "df_items=df_items.merge(df_geo,how='left',right_on='geolocation_zip_code_prefix',left_on='seller_zip_code_prefix')\n"
   ]
  },
  {
   "cell_type": "code",
   "execution_count": 8,
   "metadata": {},
   "outputs": [],
   "source": [
    "df_items=df_items.merge(df_orders[['order_id','geolocation_lat','geolocation_lng']],how='left',on='order_id')\n",
    "import math as math\n",
    "def distancia(row):\n",
    "    lat1=row['geolocation_lat_x']\n",
    "    lat2=row['geolocation_lat_y']\n",
    "    lng1=row['geolocation_lng_x']\n",
    "    lng2=row['geolocation_lng_y']\n",
    "    R_earth=6371\n",
    "    dlat=math.radians(lat2-lat1)\n",
    "    dlng=math.radians(lng2-lng1)\n",
    "    a= (math.sin(dlat/2))**2+math.cos(math.radians(lat1))*math.cos(math.radians(lat2))*((math.sin(dlng/2))**2)\n",
    "    c=2*math.atan2(math.sqrt(a),math.sqrt(1-a))\n",
    "    return R_earth*c\n",
    "\n",
    "df_items['distance']=df_items.apply(lambda x:distancia(x),axis=1)\n",
    "df_items[\"LIMIT_DATE\"] = pd.to_datetime(df_items[\"shipping_limit_date\"])\n",
    "df_orders['order_estimated_delivery_date']=pd.to_datetime(df_orders['order_estimated_delivery_date'])\n",
    "temp=df_items.groupby('order_id').agg({'product_id':'count','LIMIT_DATE':'max','distance':'max'}).reset_index()\n",
    "temp.columns=['order_id','Q_products','Shipping_due_date','Distance']\n",
    "df_orders=df_orders.merge(temp,how='left',on='order_id')\n"
   ]
  },
  {
   "cell_type": "code",
   "execution_count": 9,
   "metadata": {},
   "outputs": [],
   "source": [
    "df_items[\"LIMIT_DATE\"] = pd.to_datetime(df_items[\"shipping_limit_date\"])\n",
    "df_orders['order_estimated_delivery_date']=pd.to_datetime(df_orders['order_estimated_delivery_date'])\n",
    "df_orders['order_delivered_customer_date']=pd.to_datetime(df_orders['order_delivered_customer_date'])\n",
    "df_orders['Fulfill_date']= df_orders['order_delivered_customer_date']<df_orders['order_estimated_delivery_date']"
   ]
  },
  {
   "cell_type": "markdown",
   "metadata": {
    "id": "sm5Fp27xljzi"
   },
   "source": [
    "Hasta aca quedaron dos tablas:\n",
    "\n",
    "**df_ orders** que tiene un registro por cada compra en olist y dentro tiene:\n",
    "\n",
    "1. Informacion de la orden\n",
    "2. Informacion del cliente\n",
    "3. Informacion del Review del cliente\n",
    "4. Georeferenciacion del cliente\n",
    "\n",
    "**df_items** que tiene un registro por cada item que se ha despachado y dentro tiene:\n",
    "\n",
    "1. Informacion de cada producto\n",
    "2. Numero de Orden  a la que esta relacionada\n",
    "3. Informacion del vendedor (Cada item es despachada por un unico vendedor, pero una orden puede ser despachada por varios vendedores)\n",
    "4. Georeferenciacion del vendedor\n",
    "\n",
    "La informacion de **georeferenciacion** llega solo al zipcode del comprador y del vendedor, parece que le eliminaron la direccion, pero dejaron las coordenadas, por lo que incluir esta informacion hace que los registros se repitan la cantidad de clientes+vendedores que existan en el mismo zipcode\n",
    "\n",
    "La informacion de pagos creo que puede ser relevante, pero tiene el problema de que el cliente puede hacer el pago con mas de un metodo, al final creo que la informacion relevante es que medio uso (solo hay 4 o 5 medios) y puede que tambien sea relevante en cuantas partes dividio el pago (numero maximo de payment_sequential)\n",
    "\n",
    "\n",
    "**Sugerencia1**: En la tabla de reviews, hay ordenes que tienen mas de un review, debemos limpiarla y dejar el ultimo por fecha de registro del review (el cliente pudo cambiar de opinion o contestar la encuesta varias veces)\n",
    "\n",
    "**Sugerencia 2**: Hacer con los pagos 5 variables categoricas para determinar los medios de pago que utilizo el cliente en cada ordes, agregar el numero de payments con el max de payment_sequential y llevar estas 6 variables a la tabla df_orders"
   ]
  },
  {
   "cell_type": "code",
   "execution_count": 10,
   "metadata": {},
   "outputs": [
    {
     "name": "stdout",
     "output_type": "stream",
     "text": [
      "<class 'pandas.core.frame.DataFrame'>\n",
      "Int64Index: 103712 entries, 0 to 103711\n",
      "Data columns (total 27 columns):\n",
      " #   Column                         Non-Null Count   Dtype         \n",
      "---  ------                         --------------   -----         \n",
      " 0   customer_id                    103712 non-null  object        \n",
      " 1   customer_unique_id             103712 non-null  object        \n",
      " 2   customer_zip_code_prefix       103712 non-null  int64         \n",
      " 3   customer_city                  103712 non-null  object        \n",
      " 4   customer_state                 103712 non-null  object        \n",
      " 5   order_id                       103712 non-null  object        \n",
      " 6   order_status                   103712 non-null  object        \n",
      " 7   order_purchase_timestamp       103712 non-null  object        \n",
      " 8   order_approved_at              103547 non-null  object        \n",
      " 9   order_delivered_carrier_date   101867 non-null  object        \n",
      " 10  order_delivered_customer_date  100631 non-null  datetime64[ns]\n",
      " 11  order_estimated_delivery_date  103712 non-null  datetime64[ns]\n",
      " 12  review_id                      103712 non-null  object        \n",
      " 13  review_score                   103712 non-null  int64         \n",
      " 14  review_comment_title           12182 non-null   object        \n",
      " 15  review_comment_message         43360 non-null   object        \n",
      " 16  review_creation_date           103712 non-null  object        \n",
      " 17  review_answer_timestamp        103712 non-null  object        \n",
      " 18  geolocation_zip_code_prefix    103430 non-null  float64       \n",
      " 19  geolocation_lat                103430 non-null  float64       \n",
      " 20  geolocation_lng                103430 non-null  float64       \n",
      " 21  geolocation_city               103430 non-null  object        \n",
      " 22  geolocation_state              103430 non-null  object        \n",
      " 23  Q_products                     102913 non-null  float64       \n",
      " 24  Shipping_due_date              102913 non-null  datetime64[ns]\n",
      " 25  Distance                       102411 non-null  float64       \n",
      " 26  Fulfill_date                   103712 non-null  bool          \n",
      "dtypes: bool(1), datetime64[ns](3), float64(5), int64(2), object(16)\n",
      "memory usage: 21.5+ MB\n"
     ]
    }
   ],
   "source": [
    "df_orders.info() # Entendimiento de las variables."
   ]
  },
  {
   "cell_type": "markdown",
   "metadata": {},
   "source": [
    "Revisando la información de las variables que componen el Data Frame, nos damos cuenta que order_delivered_carrier_date,order_delivered_customer_date,review_comment_title y review_comment_message presentan valores NA dentro de sus columnas. adempas que tenemos un total de 100.000 registros unicos en la base haciendo referencia a las compras que hicieron los clientes\n"
   ]
  },
  {
   "cell_type": "code",
   "execution_count": 11,
   "metadata": {},
   "outputs": [
    {
     "name": "stdout",
     "output_type": "stream",
     "text": [
      "       DATE  customer_unique_id\n",
      "0   2016-09                   4\n",
      "1   2016-10                 336\n",
      "2   2016-12                   1\n",
      "3   2017-01                 843\n",
      "4   2017-02                1849\n",
      "5   2017-03                2790\n",
      "6   2017-04                2507\n",
      "7   2017-05                3862\n",
      "8   2017-06                3377\n",
      "9   2017-07                4201\n",
      "10  2017-08                4532\n",
      "11  2017-09                4466\n",
      "12  2017-10                4840\n",
      "13  2017-11                7908\n",
      "14  2017-12                5944\n",
      "15  2018-01                7608\n",
      "16  2018-02                7056\n",
      "17  2018-03                7531\n",
      "18  2018-04                7193\n",
      "19  2018-05                7152\n",
      "20  2018-06                6403\n",
      "21  2018-07                6552\n",
      "22  2018-08                6737\n",
      "23  2018-09                  16\n",
      "24  2018-10                   4\n"
     ]
    },
    {
     "data": {
      "text/plain": [
       "<matplotlib.legend.Legend at 0x7fa9f24e32b0>"
      ]
     },
     "execution_count": 11,
     "metadata": {},
     "output_type": "execute_result"
    },
    {
     "data": {
      "image/png": "[encoded data removed]",
      "text/plain": [
       "<Figure size 432x288 with 1 Axes>"
      ]
     },
     "metadata": {
      "needs_background": "light"
     },
     "output_type": "display_data"
    }
   ],
   "source": [
    "#Grafica del numero de ordenes por mes de análisis\n",
    "df_orders[\"DATE\"] = pd.to_datetime(df_orders[\"order_purchase_timestamp\"])\n",
    "df_orders[\"DATE\"] = df_orders[\"DATE\"].dt.to_period(freq = \"M\")\n",
    "\n",
    "orders_by_month = df_orders.groupby('DATE')['customer_unique_id'].count().reset_index(drop = False)\n",
    "print(orders_by_month)\n",
    "\n",
    "#Line Plot for the Colission by date.\n",
    "\n",
    "# Modificación Emmanuel G para embellecer las gráficas\n",
    "# Inicio (1)\n",
    "orders_by_month.plot(x= \"DATE\",y=\"customer_unique_id\",title=\"Number of Orders per Month\")\n",
    "plt.xlabel(\"Period\")    \n",
    "plt.legend('',frameon=False)\n",
    "#Fin (1)"
   ]
  },
  {
   "cell_type": "markdown",
   "metadata": {},
   "source": [
    "Creación de una variable que calcule el tiempo que se demora en entregar un producto desde que se realizó la compra por la plataforma, pues puede ser una variable explicativa del socore de los clientes.\n"
   ]
  },
  {
   "cell_type": "code",
   "execution_count": 12,
   "metadata": {},
   "outputs": [
    {
     "data": {
      "text/html": [
       "<div>\n",
       "<style scoped>\n",
       "    .dataframe tbody tr th:only-of-type {\n",
       "        vertical-align: middle;\n",
       "    }\n",
       "\n",
       "    .dataframe tbody tr th {\n",
       "        vertical-align: top;\n",
       "    }\n",
       "\n",
       "    .dataframe thead th {\n",
       "        text-align: right;\n",
       "    }\n",
       "</style>\n",
       "<table border=\"1\" class=\"dataframe\">\n",
       "  <thead>\n",
       "    <tr style=\"text-align: right;\">\n",
       "      <th></th>\n",
       "      <th>Time Duration</th>\n",
       "    </tr>\n",
       "  </thead>\n",
       "  <tbody>\n",
       "    <tr>\n",
       "      <th>count</th>\n",
       "      <td>100631.000000</td>\n",
       "    </tr>\n",
       "    <tr>\n",
       "      <th>mean</th>\n",
       "      <td>12.123610</td>\n",
       "    </tr>\n",
       "    <tr>\n",
       "      <th>std</th>\n",
       "      <td>9.574398</td>\n",
       "    </tr>\n",
       "    <tr>\n",
       "      <th>min</th>\n",
       "      <td>0.000000</td>\n",
       "    </tr>\n",
       "    <tr>\n",
       "      <th>25%</th>\n",
       "      <td>6.000000</td>\n",
       "    </tr>\n",
       "    <tr>\n",
       "      <th>50%</th>\n",
       "      <td>10.000000</td>\n",
       "    </tr>\n",
       "    <tr>\n",
       "      <th>75%</th>\n",
       "      <td>15.000000</td>\n",
       "    </tr>\n",
       "    <tr>\n",
       "      <th>max</th>\n",
       "      <td>209.000000</td>\n",
       "    </tr>\n",
       "  </tbody>\n",
       "</table>\n",
       "</div>"
      ],
      "text/plain": [
       "       Time Duration\n",
       "count  100631.000000\n",
       "mean       12.123610\n",
       "std         9.574398\n",
       "min         0.000000\n",
       "25%         6.000000\n",
       "50%        10.000000\n",
       "75%        15.000000\n",
       "max       209.000000"
      ]
     },
     "execution_count": 12,
     "metadata": {},
     "output_type": "execute_result"
    }
   ],
   "source": [
    "#CREACIÓN DE UNA VARIABLE DEL TIEMPO ENTRE COMPRA Y ENTREGA DE PRODUCTO\n",
    "# Then with the remaining values, convert them to datetime objects\n",
    "df_orders['order_delivered_customer_date'] = pd.to_datetime(df_orders['order_delivered_customer_date'], format='%Y/%m/%d %H:%M:%S')\n",
    "df_orders['order_purchase_timestamp'] = pd.to_datetime(df_orders['order_purchase_timestamp'], format='%Y/%m/%d %H:%M:%S')\n",
    "\n",
    "df_orders['time_duration'] = (df_orders['order_delivered_customer_date'] - df_orders['order_purchase_timestamp'])\n",
    "df_orders['time_duration'] = df_orders['time_duration'].apply(lambda x: x.days)\n",
    "# At this point, its important to know the time duration since customer purchase and delivery.\n",
    "df_orders = df_orders[df_orders.time_duration.notna()]\n",
    "#Inicio (2)\n",
    "df_describe = pd.DataFrame(df_orders['time_duration'].describe())\n",
    "df_describe.columns = {'Time Duration'}\n",
    "df_describe\n",
    "#Fin (2)"
   ]
  },
  {
   "cell_type": "markdown",
   "metadata": {},
   "source": [
    "Como se evidencia en el resultado anterior, el promedio de dias que toma un producto en ser entregado desde el día de compra es de 12 dias. Lo importante aquí es que se encontró que el valor maximo de tiempo de duración es de 209 dias, al rededor de 7 meses, algo bastante extraño y que ahondaremos más adelante.\n"
   ]
  },
  {
   "cell_type": "code",
   "execution_count": 13,
   "metadata": {},
   "outputs": [
    {
     "data": {
      "text/plain": [
       "[Text(0.5, 0, 'Time Duration'),\n",
       " Text(0, 0.5, '# Customers (Unique)'),\n",
       " Text(0.5, 1.0, 'Number of curstomers (Unique) Vs Time Duration')]"
      ]
     },
     "execution_count": 13,
     "metadata": {},
     "output_type": "execute_result"
    },
    {
     "data": {
      "image/png": "[encoded data removed]",
      "text/plain": [
       "<Figure size 864x432 with 1 Axes>"
      ]
     },
     "metadata": {
      "needs_background": "light"
     },
     "output_type": "display_data"
    }
   ],
   "source": [
    "df_subset= df_orders[df_orders.time_duration <= 20]\n",
    "df_by_duration = df_subset.groupby(['time_duration'])['customer_unique_id'].count().reset_index(drop = False)\n",
    "\n",
    "#Modificación de Emmanuel G para embellecer\n",
    "#Inicio(3) \n",
    "fig, ax = plt.subplots(figsize=(12, 6))\n",
    "g = sns.barplot(ax=ax\n",
    "                , x=\"time_duration\"\n",
    "                , y=\"customer_unique_id\"\n",
    "                , data=df_by_duration\n",
    "                , palette=\"Blues_d\"                \n",
    "               )\n",
    "g.set(xlabel = 'Time Duration', ylabel = '# Customers (Unique)', title=\"Number of curstomers (Unique) Vs Time Duration\")\n",
    "#Fin(3)"
   ]
  },
  {
   "cell_type": "markdown",
   "metadata": {},
   "source": [
    "Evidenciamos que la distribución al rededor de la grafica se concentra en los periodos comprendidos entre 0 y 7 dias de demora en entrega del producto, y continua decendiendo. ahora bien esto nos puede dar indicios queel promedio de demora no suele ser superior a los 7 dias para el promedio de datos de toda la base, pero es relevante compararlo con los scores en reviews para poder identificar algún patrón."
   ]
  },
  {
   "cell_type": "code",
   "execution_count": 14,
   "metadata": {},
   "outputs": [
    {
     "name": "stderr",
     "output_type": "stream",
     "text": [
      "/opt/conda/lib/python3.6/site-packages/pandas/core/generic.py:5170: SettingWithCopyWarning: \n",
      "A value is trying to be set on a copy of a slice from a DataFrame.\n",
      "Try using .loc[row_indexer,col_indexer] = value instead\n",
      "\n",
      "See the caveats in the documentation: https://pandas.pydata.org/pandas-docs/stable/user_guide/indexing.html#returning-a-view-versus-a-copy\n",
      "  self[name] = value\n",
      "/opt/conda/lib/python3.6/site-packages/seaborn/axisgrid.py:903: UserWarning: FixedFormatter should only be used together with FixedLocator\n",
      "  ax.set_xticklabels(labels, **kwargs)\n"
     ]
    },
    {
     "data": {
      "text/plain": [
       "<seaborn.axisgrid.FacetGrid at 0x7fa9def91390>"
      ]
     },
     "execution_count": 14,
     "metadata": {},
     "output_type": "execute_result"
    },
    {
     "data": {
      "image/png": "[encoded data removed]",
      "text/plain": [
       "<Figure size 1080x216 with 5 Axes>"
      ]
     },
     "metadata": {
      "needs_background": "light"
     },
     "output_type": "display_data"
    }
   ],
   "source": [
    "df_subset= df_orders[df_orders.time_duration <= 20]\n",
    "df_subset.time_duration = df_subset.time_duration.astype(int)\n",
    "df_by_duration = df_subset.groupby(['time_duration','review_score'])['customer_unique_id'].count().reset_index(drop = False)\n",
    "g = sns.FacetGrid(df_by_duration, col = 'review_score')\n",
    "g.set_xticklabels(fontsize=10)\n",
    "g.map_dataframe(sns.barplot, x= 'time_duration', y = 'customer_unique_id')\n",
    "g.set_axis_labels(\"Hours\", \"Number of Cases\")"
   ]
  },
  {
   "cell_type": "code",
   "execution_count": 15,
   "metadata": {},
   "outputs": [
    {
     "data": {
      "image/png": "[encoded data removed]",
      "text/plain": [
       "<Figure size 1080x432 with 1 Axes>"
      ]
     },
     "metadata": {
      "needs_background": "light"
     },
     "output_type": "display_data"
    }
   ],
   "source": [
    "plt.figure(figsize=(15,6))\n",
    "sns.boxplot(y = 'time_duration', x='review_score', data = df_orders)\n",
    "#Modificación de Emmanuel para embellecer\n",
    "#Inicio(4)\n",
    "title_string = \"Review Score vs. Delivery Time (BoxSplot)\" \n",
    "plt.ylabel(\"Delivery Time\")\n",
    "plt.xlabel(\"Review Score\")\n",
    "#Fin(4)\n",
    "_=plt.title(title_string)"
   ]
  },
  {
   "cell_type": "markdown",
   "metadata": {},
   "source": [
    "Evidenciamos que a pesar que el score 5 en los reviews presenta más registros que los otros valores, en promedio el maximo tiempo de duración para las cinco calificaciones es 7 días. Otro dato relevante es que para el caso de un score de 1 y 2, parece que la distribución a lo largo de la duración de entrega es constante, pareciendo que pueden haber otras razones aparte de la duración de entrga que influya en la calificación.\n"
   ]
  },
  {
   "cell_type": "markdown",
   "metadata": {},
   "source": [
    "Por lo anterior, podría ser interesante preguntarnos el coeficiente de correlación entre el socre de review y el numero de dias de entrega del producto, lo cual calculamos acontinuación:\n",
    "    "
   ]
  },
  {
   "cell_type": "code",
   "execution_count": 16,
   "metadata": {},
   "outputs": [
    {
     "data": {
      "text/html": [
       "<div>\n",
       "<style scoped>\n",
       "    .dataframe tbody tr th:only-of-type {\n",
       "        vertical-align: middle;\n",
       "    }\n",
       "\n",
       "    .dataframe tbody tr th {\n",
       "        vertical-align: top;\n",
       "    }\n",
       "\n",
       "    .dataframe thead th {\n",
       "        text-align: right;\n",
       "    }\n",
       "</style>\n",
       "<table border=\"1\" class=\"dataframe\">\n",
       "  <thead>\n",
       "    <tr style=\"text-align: right;\">\n",
       "      <th></th>\n",
       "      <th>product_category_name_english</th>\n",
       "      <th>order_id</th>\n",
       "    </tr>\n",
       "  </thead>\n",
       "  <tbody>\n",
       "    <tr>\n",
       "      <th>0</th>\n",
       "      <td>bed_bath_table</td>\n",
       "      <td>11746</td>\n",
       "    </tr>\n",
       "    <tr>\n",
       "      <th>1</th>\n",
       "      <td>health_beauty</td>\n",
       "      <td>10612</td>\n",
       "    </tr>\n",
       "    <tr>\n",
       "      <th>2</th>\n",
       "      <td>sports_leisure</td>\n",
       "      <td>9647</td>\n",
       "    </tr>\n",
       "    <tr>\n",
       "      <th>3</th>\n",
       "      <td>furniture_decor</td>\n",
       "      <td>8965</td>\n",
       "    </tr>\n",
       "    <tr>\n",
       "      <th>4</th>\n",
       "      <td>computers_accessories</td>\n",
       "      <td>8283</td>\n",
       "    </tr>\n",
       "    <tr>\n",
       "      <th>5</th>\n",
       "      <td>housewares</td>\n",
       "      <td>7295</td>\n",
       "    </tr>\n",
       "    <tr>\n",
       "      <th>6</th>\n",
       "      <td>watches_gifts</td>\n",
       "      <td>6358</td>\n",
       "    </tr>\n",
       "    <tr>\n",
       "      <th>7</th>\n",
       "      <td>telephony</td>\n",
       "      <td>4874</td>\n",
       "    </tr>\n",
       "    <tr>\n",
       "      <th>8</th>\n",
       "      <td>auto</td>\n",
       "      <td>4656</td>\n",
       "    </tr>\n",
       "    <tr>\n",
       "      <th>9</th>\n",
       "      <td>garden_tools</td>\n",
       "      <td>4575</td>\n",
       "    </tr>\n",
       "  </tbody>\n",
       "</table>\n",
       "</div>"
      ],
      "text/plain": [
       "  product_category_name_english  order_id\n",
       "0                bed_bath_table     11746\n",
       "1                 health_beauty     10612\n",
       "2                sports_leisure      9647\n",
       "3               furniture_decor      8965\n",
       "4         computers_accessories      8283\n",
       "5                    housewares      7295\n",
       "6                 watches_gifts      6358\n",
       "7                     telephony      4874\n",
       "8                          auto      4656\n",
       "9                  garden_tools      4575"
      ]
     },
     "execution_count": 16,
     "metadata": {},
     "output_type": "execute_result"
    }
   ],
   "source": [
    "#productos MAS vendidos:\n",
    "df_products = df_items.groupby('product_category_name_english')['order_id'].count().reset_index(drop = False)\n",
    "df_products = df_products.sort_values(by = 'order_id', ascending = False).reset_index(drop = True)\n",
    "top_products = df_products.head(10)\n",
    "top_products"
   ]
  },
  {
   "cell_type": "code",
   "execution_count": 17,
   "metadata": {},
   "outputs": [
    {
     "data": {
      "text/html": [
       "<div>\n",
       "<style scoped>\n",
       "    .dataframe tbody tr th:only-of-type {\n",
       "        vertical-align: middle;\n",
       "    }\n",
       "\n",
       "    .dataframe tbody tr th {\n",
       "        vertical-align: top;\n",
       "    }\n",
       "\n",
       "    .dataframe thead th {\n",
       "        text-align: right;\n",
       "    }\n",
       "</style>\n",
       "<table border=\"1\" class=\"dataframe\">\n",
       "  <thead>\n",
       "    <tr style=\"text-align: right;\">\n",
       "      <th></th>\n",
       "      <th>product_category_name_english</th>\n",
       "      <th>order_id</th>\n",
       "    </tr>\n",
       "  </thead>\n",
       "  <tbody>\n",
       "    <tr>\n",
       "      <th>0</th>\n",
       "      <td>security_and_services</td>\n",
       "      <td>2</td>\n",
       "    </tr>\n",
       "    <tr>\n",
       "      <th>1</th>\n",
       "      <td>fashion_childrens_clothes</td>\n",
       "      <td>8</td>\n",
       "    </tr>\n",
       "    <tr>\n",
       "      <th>2</th>\n",
       "      <td>la_cuisine</td>\n",
       "      <td>14</td>\n",
       "    </tr>\n",
       "    <tr>\n",
       "      <th>3</th>\n",
       "      <td>cds_dvds_musicals</td>\n",
       "      <td>14</td>\n",
       "    </tr>\n",
       "    <tr>\n",
       "      <th>4</th>\n",
       "      <td>arts_and_craftmanship</td>\n",
       "      <td>25</td>\n",
       "    </tr>\n",
       "    <tr>\n",
       "      <th>5</th>\n",
       "      <td>home_comfort_2</td>\n",
       "      <td>30</td>\n",
       "    </tr>\n",
       "    <tr>\n",
       "      <th>6</th>\n",
       "      <td>flowers</td>\n",
       "      <td>33</td>\n",
       "    </tr>\n",
       "    <tr>\n",
       "      <th>7</th>\n",
       "      <td>fashion_sport</td>\n",
       "      <td>35</td>\n",
       "    </tr>\n",
       "    <tr>\n",
       "      <th>8</th>\n",
       "      <td>music</td>\n",
       "      <td>39</td>\n",
       "    </tr>\n",
       "    <tr>\n",
       "      <th>9</th>\n",
       "      <td>furniture_mattress_and_upholstery</td>\n",
       "      <td>41</td>\n",
       "    </tr>\n",
       "  </tbody>\n",
       "</table>\n",
       "</div>"
      ],
      "text/plain": [
       "       product_category_name_english  order_id\n",
       "0              security_and_services         2\n",
       "1          fashion_childrens_clothes         8\n",
       "2                         la_cuisine        14\n",
       "3                  cds_dvds_musicals        14\n",
       "4              arts_and_craftmanship        25\n",
       "5                     home_comfort_2        30\n",
       "6                            flowers        33\n",
       "7                      fashion_sport        35\n",
       "8                              music        39\n",
       "9  furniture_mattress_and_upholstery        41"
      ]
     },
     "execution_count": 17,
     "metadata": {},
     "output_type": "execute_result"
    }
   ],
   "source": [
    "#productos menos vendidos:\n",
    "df_products = df_items.groupby('product_category_name_english')['order_id'].count().reset_index(drop = False)\n",
    "df_products = df_products.sort_values(by = 'order_id', ascending = True).reset_index(drop = True)\n",
    "deep_10_products = df_products.head(10)\n",
    "deep_10_products"
   ]
  },
  {
   "cell_type": "code",
   "execution_count": 18,
   "metadata": {},
   "outputs": [],
   "source": [
    "states = {\n",
    "    'AC':' Acre',\n",
    "'AL':' Alagoas',\n",
    "'AP':' Amapá',\n",
    "'AM':' Amazonas',\n",
    "'BA':' Bahia',\n",
    "'CE':' Ceará',\n",
    "'DF':' Distrito Federal',\n",
    "'ES':' Espírito Santo',\n",
    "'GO':' Goiás',\n",
    "'MA':' Maranhão',\n",
    "'MT':' Mato Grosso',\n",
    "'MS':' Mato Grosso do Sul',\n",
    "'MG':' Minas Gerais',\n",
    "'PA':' Pará',\n",
    "'PB':' Paraíba',\n",
    "'PR':' Paraná',\n",
    "'PE':' Pernambuco',\n",
    "'PI':' Piauí',\n",
    "'RJ':' Rio de Janeiro',\n",
    "'RN':' Rio Grande do Norte',\n",
    "'RS':' Rio Grande do Sul',\n",
    "'RO':' Rondônia',\n",
    "'RR':' Roraima',\n",
    "'SC':' Santa Catarina',\n",
    "'SP':' São Paulo',\n",
    "'SE':' Sergipe',\n",
    "'TO':' Tocantins',\n",
    "}"
   ]
  },
  {
   "cell_type": "code",
   "execution_count": 19,
   "metadata": {
    "colab": {
     "base_uri": "https://localhost:8080/",
     "height": 522
    },
    "id": "1zJ2BbeSogWT",
    "outputId": "f233168d-7e90-44a8-be1f-b28d671d0567"
   },
   "outputs": [
    {
     "data": {
      "image/png": "[encoded data removed]",
      "text/plain": [
       "<Figure size 1224x576 with 1 Axes>"
      ]
     },
     "metadata": {
      "needs_background": "light"
     },
     "output_type": "display_data"
    }
   ],
   "source": [
    "# plt.figure(figsize=(17,8))\n",
    "# temp=df_orders.groupby('customer_state')['order_id'].count().sort_values(ascending=False).head(10).plot.bar()\n",
    "\n",
    "plt.figure(figsize=(17,8))\n",
    "a = df_orders.groupby('customer_state')['order_id'].count().sort_values(ascending=False).to_frame().reset_index()\n",
    "a['customer_state'] = a['customer_state'].map(states)\n",
    "a.head()\n",
    "\n",
    "sns.set_color_codes(\"pastel\")\n",
    "\n",
    "sns.set(rc={'figure.figsize':(15,7)})\n",
    "ax = sns.barplot(x=\"order_id\", y=\"customer_state\", data=a,label=\"Total\")\n",
    "ax.set(title='Distribution of Review in Sellers')\n",
    "\n",
    "for p in ax.patches:\n",
    "    width = p.get_width()    # get bar length\n",
    "    ax.text(width + 1,       # set the text at 1 unit right of the bar\n",
    "            p.get_y() + p.get_height() / 2, # get Y coordinate + X coordinate / 2\n",
    "            '{:1.2f}'.format(width), # set variable to display, 2 decimals\n",
    "            ha = 'left',   # horizontal alignment\n",
    "            va = 'center')  # vertical alignment"
   ]
  },
  {
   "cell_type": "markdown",
   "metadata": {
    "id": "EJuOCOmwzVEo"
   },
   "source": [
    "Distribucion Reviews"
   ]
  },
  {
   "cell_type": "code",
   "execution_count": 20,
   "metadata": {
    "colab": {
     "base_uri": "https://localhost:8080/",
     "height": 514
    },
    "id": "i3VGcK4Zo30h",
    "outputId": "c3dbaf2b-4d95-4493-d149-458a7d604f41"
   },
   "outputs": [
    {
     "data": {
      "text/plain": [
       "<AxesSubplot:xlabel='review_score'>"
      ]
     },
     "execution_count": 20,
     "metadata": {},
     "output_type": "execute_result"
    },
    {
     "data": {
      "image/png": "[encoded data removed]",
      "text/plain": [
       "<Figure size 1224x576 with 1 Axes>"
      ]
     },
     "metadata": {},
     "output_type": "display_data"
    }
   ],
   "source": [
    "plt.figure(figsize=(17,8))\n",
    "df_orders.groupby('review_score')['order_id'].count().plot.bar()"
   ]
  },
  {
   "cell_type": "markdown",
   "metadata": {
    "id": "QV3MG8mJzbKj"
   },
   "source": [
    "Cantidad de Clientes por cantidad de ordenes de cada cliente"
   ]
  },
  {
   "cell_type": "code",
   "execution_count": 21,
   "metadata": {
    "colab": {
     "base_uri": "https://localhost:8080/",
     "height": 645
    },
    "id": "CE2urM81qkyS",
    "outputId": "621431cb-9668-4882-e4f7-3d118ef27df1"
   },
   "outputs": [
    {
     "data": {
      "text/plain": [
       "(array([8.7412e+04, 5.0310e+03, 6.4100e+02, 2.0200e+02, 2.3000e+01,\n",
       "        0.0000e+00, 3.5000e+01, 5.0000e+00, 4.0000e+00, 1.0000e+00,\n",
       "        1.0000e+00, 0.0000e+00, 0.0000e+00, 0.0000e+00, 0.0000e+00,\n",
       "        0.0000e+00, 1.0000e+00]),\n",
       " array([ 1.        ,  1.82352941,  2.64705882,  3.47058824,  4.29411765,\n",
       "         5.11764706,  5.94117647,  6.76470588,  7.58823529,  8.41176471,\n",
       "         9.23529412, 10.05882353, 10.88235294, 11.70588235, 12.52941176,\n",
       "        13.35294118, 14.17647059, 15.        ]),\n",
       " <BarContainer object of 17 artists>)"
      ]
     },
     "execution_count": 21,
     "metadata": {},
     "output_type": "execute_result"
    },
    {
     "data": {
      "image/png": "[encoded data removed]",
      "text/plain": [
       "<Figure size 1224x576 with 1 Axes>"
      ]
     },
     "metadata": {},
     "output_type": "display_data"
    }
   ],
   "source": [
    "plt.figure(figsize=(17,8))\n",
    "orders_client=df_orders.groupby('customer_unique_id')['order_id'].count().sort_values(ascending=False)\n",
    "plt.hist(orders_client,17)"
   ]
  },
  {
   "cell_type": "code",
   "execution_count": 22,
   "metadata": {},
   "outputs": [
    {
     "data": {
      "image/png": "[encoded data removed]",
      "text/plain": [
       "<Figure size 1224x576 with 1 Axes>"
      ]
     },
     "metadata": {},
     "output_type": "display_data"
    }
   ],
   "source": [
    "plt.figure(figsize=(17,8))\n",
    "_=df_orders.groupby('order_status')['order_id'].count().sort_values(ascending=False).plot.bar()"
   ]
  },
  {
   "cell_type": "code",
   "execution_count": 23,
   "metadata": {},
   "outputs": [
    {
     "data": {
      "image/png": "[encoded data removed]",
      "text/plain": [
       "<Figure size 1224x576 with 2 Axes>"
      ]
     },
     "metadata": {},
     "output_type": "display_data"
    }
   ],
   "source": [
    "plt.figure(figsize=(17,8))\n",
    "plt.subplot(121)\n",
    "_=df_orders[df_orders.order_status!='delivered'].groupby('review_score')['order_id'].count().plot.bar()\n",
    "plt.ylabel(\"Orders\")\n",
    "plt.xlabel=\"Review Score\"\n",
    "plt.title(\"State of the Order different than Delivered\")\n",
    "plt.subplot(122)\n",
    "plt.ylabel(\"Orders\")\n",
    "plt.xlabel=\"Review Score\"\n",
    "plt.title(\"Orders Delivered\")\n",
    "_=df_orders[df_orders.order_status=='delivered'].groupby('review_score')['order_id'].count().plot.bar()"
   ]
  },
  {
   "cell_type": "code",
   "execution_count": 24,
   "metadata": {},
   "outputs": [
    {
     "data": {
      "image/png": "[encoded data removed]",
      "text/plain": [
       "<Figure size 1224x576 with 1 Axes>"
      ]
     },
     "metadata": {},
     "output_type": "display_data"
    }
   ],
   "source": [
    "plt.figure(figsize=(17,8))\n",
    "sns.boxplot(y = 'Q_products', x='review_score', data = df_orders)\n",
    "title_string = \"Boxplot of Review Score vs. Quantity of items\" \n",
    "plt.ylabel(\"Quantity of Products\")\n",
    "_=plt.title(title_string)"
   ]
  },
  {
   "cell_type": "code",
   "execution_count": 25,
   "metadata": {},
   "outputs": [
    {
     "data": {
      "image/png": "[encoded data removed]",
      "text/plain": [
       "<Figure size 1224x576 with 1 Axes>"
      ]
     },
     "metadata": {},
     "output_type": "display_data"
    }
   ],
   "source": [
    "plt.figure(figsize=(17,8))\n",
    "sns.boxplot(y = 'Distance', x='review_score', data = df_orders)\n",
    "title_string = \"Boxplot of Review Score vs. Distance between seller and buyer\" \n",
    "plt.ylabel(\"Distance (km)\")\n",
    "plt.xlabel=\"Review Score\"\n",
    "_=plt.title(title_string)"
   ]
  },
  {
   "cell_type": "code",
   "execution_count": 26,
   "metadata": {},
   "outputs": [
    {
     "data": {
      "image/png": "[encoded data removed]",
      "text/plain": [
       "<Figure size 1224x576 with 2 Axes>"
      ]
     },
     "metadata": {},
     "output_type": "display_data"
    }
   ],
   "source": [
    "plt.figure(figsize=(17,8))\n",
    "plt.subplot(121)\n",
    "plt.title('Fulfill delivery')\n",
    "plt.ylabel(\"Orders\")\n",
    "plt.xlabel=\"Review Score\"\n",
    "_=df_orders[df_orders.Fulfill_date==True].groupby('review_score')['order_id'].count().plot.bar()\n",
    "\n",
    "plt.subplot(122)\n",
    "plt.title(\"Don't Fulfill delivery\")\n",
    "plt.ylabel(\"Orders\")\n",
    "plt.xlabel=\"Review Score\"\n",
    "_=df_orders[df_orders.Fulfill_date==False].groupby('review_score')['order_id'].count().plot.bar()"
   ]
  },
  {
   "cell_type": "markdown",
   "metadata": {},
   "source": [
    "# Pruebas de Hipotesis:\n"
   ]
  },
  {
   "cell_type": "markdown",
   "metadata": {},
   "source": [
    "1. B0= El status del del producto no afecta la calificación del cliente:\n"
   ]
  },
  {
   "cell_type": "code",
   "execution_count": 27,
   "metadata": {},
   "outputs": [
    {
     "data": {
      "text/plain": [
       "(-92.6468127770201, 0.0)"
      ]
     },
     "execution_count": 27,
     "metadata": {},
     "output_type": "execute_result"
    }
   ],
   "source": [
    "statistic, pvalue = stats.ttest_ind(df_orders[df_orders.Fulfill_date==False].review_score,df_orders[df_orders.Fulfill_date==True].review_score, equal_var=False)\n",
    "statistic, pvalue"
   ]
  },
  {
   "cell_type": "code",
   "execution_count": 28,
   "metadata": {},
   "outputs": [
    {
     "ename": "AttributeError",
     "evalue": "module 'statsmodels.formula.api' has no attribute 'stats'",
     "output_type": "error",
     "traceback": [
      "\u001b[0;31m---------------------------------------------------------------------------\u001b[0m",
      "\u001b[0;31mAttributeError\u001b[0m                            Traceback (most recent call last)",
      "\u001b[0;32m<ipython-input-28-4b808a00d210>\u001b[0m in \u001b[0;36m<module>\u001b[0;34m\u001b[0m\n\u001b[1;32m      1\u001b[0m \u001b[0mmod\u001b[0m \u001b[0;34m=\u001b[0m \u001b[0mols\u001b[0m\u001b[0;34m(\u001b[0m\u001b[0;34m'review_score ~ order_status'\u001b[0m\u001b[0;34m,\u001b[0m \u001b[0mdata\u001b[0m\u001b[0;34m=\u001b[0m\u001b[0mdf_orders\u001b[0m\u001b[0;34m)\u001b[0m\u001b[0;34m.\u001b[0m\u001b[0mfit\u001b[0m\u001b[0;34m(\u001b[0m\u001b[0;34m)\u001b[0m\u001b[0;34m\u001b[0m\u001b[0;34m\u001b[0m\u001b[0m\n\u001b[0;32m----> 2\u001b[0;31m \u001b[0maov_table\u001b[0m \u001b[0;34m=\u001b[0m \u001b[0msm\u001b[0m\u001b[0;34m.\u001b[0m\u001b[0mstats\u001b[0m\u001b[0;34m.\u001b[0m\u001b[0manova_lm\u001b[0m\u001b[0;34m(\u001b[0m\u001b[0mmod\u001b[0m\u001b[0;34m,\u001b[0m \u001b[0mtyp\u001b[0m\u001b[0;34m=\u001b[0m\u001b[0;36m2\u001b[0m\u001b[0;34m)\u001b[0m\u001b[0;34m\u001b[0m\u001b[0;34m\u001b[0m\u001b[0m\n\u001b[0m\u001b[1;32m      3\u001b[0m \u001b[0maov_table\u001b[0m\u001b[0;34m\u001b[0m\u001b[0;34m\u001b[0m\u001b[0m\n",
      "\u001b[0;31mAttributeError\u001b[0m: module 'statsmodels.formula.api' has no attribute 'stats'"
     ]
    }
   ],
   "source": [
    "mod = ols('review_score ~ order_status', data=df_orders).fit()  \n",
    "aov_table = sm.stats.anova_lm(mod, typ=2)\n",
    "aov_table"
   ]
  },
  {
   "cell_type": "markdown",
   "metadata": {},
   "source": [
    "2. b0 = El tiempo de duración del producto no afecta la calificación de los clientes. "
   ]
  },
  {
   "cell_type": "code",
   "execution_count": 29,
   "metadata": {},
   "outputs": [
    {
     "data": {
      "text/plain": [
       "-0.33424282545468154"
      ]
     },
     "execution_count": 29,
     "metadata": {},
     "output_type": "execute_result"
    }
   ],
   "source": [
    "corr = df_orders.time_duration.corr(df_orders.review_score)\n",
    "corr"
   ]
  },
  {
   "cell_type": "code",
   "execution_count": 30,
   "metadata": {},
   "outputs": [
    {
     "data": {
      "text/plain": [
       "(262.07271143242383, 0.0)"
      ]
     },
     "execution_count": 30,
     "metadata": {},
     "output_type": "execute_result"
    }
   ],
   "source": [
    "\n",
    "statistic, pvalue = stats.ttest_ind(df_orders.time_duration,df_orders.review_score, equal_var=False)\n",
    "statistic, pvalue\n"
   ]
  },
  {
   "cell_type": "markdown",
   "metadata": {},
   "source": [
    "3.B0 = comprarle a un seller con reviews altos no determina que la calificación del costumer sea acorde."
   ]
  },
  {
   "cell_type": "code",
   "execution_count": null,
   "metadata": {},
   "outputs": [],
   "source": [
    "df_orders"
   ]
  },
  {
   "cell_type": "code",
   "execution_count": 31,
   "metadata": {},
   "outputs": [
    {
     "data": {
      "text/plain": [
       "(262.07271143242383, 0.0)"
      ]
     },
     "execution_count": 31,
     "metadata": {},
     "output_type": "execute_result"
    }
   ],
   "source": [
    "\n",
    "statistic, pvalue = stats.ttest_ind(df_orders.time_duration,df_orders.review_score, equal_var=False)\n",
    "statistic, pvalue\n"
   ]
  },
  {
   "cell_type": "code",
   "execution_count": 32,
   "metadata": {},
   "outputs": [
    {
     "name": "stdout",
     "output_type": "stream",
     "text": [
      "\t\t\tstatistic\t\tpvalue\n",
      "delivered vs. canceled\t3.841015650184008\t0.008547267402334864\n"
     ]
    }
   ],
   "source": [
    "gb = df_orders.groupby(['order_status'])\n",
    "group_names = df_orders[\"order_status\"].unique()\n",
    "print(\"\\t\\t\\tstatistic\\t\\tpvalue\")\n",
    "len(group_names)\n",
    "for i in range(len(group_names)):\n",
    "    for j in range(i+1, len(group_names)):\n",
    "        group1 = gb[[\"review_score\"]].get_group(group_names[i])\n",
    "        group2 = gb[[\"review_score\"]].get_group(group_names[j])\n",
    "        stat, pvalue = stats.ttest_ind(group1, group2, equal_var = False)\n",
    "        print(group_names[i] + \" vs. \" + group_names[j] + \"\\t\" + str(stat[0]) + \"\\t\" + str(pvalue[0]))"
   ]
  },
  {
   "cell_type": "code",
   "execution_count": 33,
   "metadata": {},
   "outputs": [
    {
     "data": {
      "text/html": [
       "<div>\n",
       "<style scoped>\n",
       "    .dataframe tbody tr th:only-of-type {\n",
       "        vertical-align: middle;\n",
       "    }\n",
       "\n",
       "    .dataframe tbody tr th {\n",
       "        vertical-align: top;\n",
       "    }\n",
       "\n",
       "    .dataframe thead th {\n",
       "        text-align: right;\n",
       "    }\n",
       "</style>\n",
       "<table border=\"1\" class=\"dataframe\">\n",
       "  <thead>\n",
       "    <tr style=\"text-align: right;\">\n",
       "      <th></th>\n",
       "      <th>Contrast</th>\n",
       "      <th>A</th>\n",
       "      <th>B</th>\n",
       "      <th>Paired</th>\n",
       "      <th>Parametric</th>\n",
       "      <th>T</th>\n",
       "      <th>dof</th>\n",
       "      <th>Tail</th>\n",
       "      <th>p-unc</th>\n",
       "      <th>BF10</th>\n",
       "      <th>hedges</th>\n",
       "    </tr>\n",
       "  </thead>\n",
       "  <tbody>\n",
       "    <tr>\n",
       "      <th>0</th>\n",
       "      <td>order_status</td>\n",
       "      <td>delivered</td>\n",
       "      <td>canceled</td>\n",
       "      <td>False</td>\n",
       "      <td>True</td>\n",
       "      <td>3.841016</td>\n",
       "      <td>6.000567</td>\n",
       "      <td>two-sided</td>\n",
       "      <td>0.008547</td>\n",
       "      <td>148.326</td>\n",
       "      <td>1.761544</td>\n",
       "    </tr>\n",
       "  </tbody>\n",
       "</table>\n",
       "</div>"
      ],
      "text/plain": [
       "       Contrast          A         B  Paired  Parametric         T       dof  \\\n",
       "0  order_status  delivered  canceled   False        True  3.841016  6.000567   \n",
       "\n",
       "        Tail     p-unc     BF10    hedges  \n",
       "0  two-sided  0.008547  148.326  1.761544  "
      ]
     },
     "execution_count": 33,
     "metadata": {},
     "output_type": "execute_result"
    }
   ],
   "source": [
    "pairwise_results = pairwise_ttests(dv='review_score', between = ['order_status'], padjust='bonf', data=df_orders)\n",
    "pairwise_results"
   ]
  },
  {
   "cell_type": "code",
   "execution_count": 34,
   "metadata": {},
   "outputs": [],
   "source": [
    "## DB Conection\n",
    "\n",
    "con = snowflake.connector.connect(\n",
    "          user='CAMILOCBARRERA',\n",
    "         password='Datos112020',\n",
    "          account='ioa22652.us-east-1',\n",
    "          warehouse='DS4A_WH',\n",
    "          database='BRAZILIAN_ECOMMERCE_DB',\n",
    "          )\n",
    "def runQueryDF(sql):\n",
    "    cursor=con.cursor()\n",
    "    cursor.execute(sql)\n",
    "    result=cursor.fetchall()\n",
    "    df=pd.DataFrame(result)\n",
    "    df.columns = [x.lower() for x in list(map(lambda t: t[0], cursor.description))]\n",
    "    return df"
   ]
  },
  {
   "cell_type": "code",
   "execution_count": 35,
   "metadata": {},
   "outputs": [],
   "source": [
    "sql = \"\"\"\n",
    "\n",
    "WITH max_dates AS\n",
    "(\n",
    "select \n",
    "order_id, \n",
    "max(REVIEW_ANSWER_TIMESTAMP) REVIEW_ANSWER_TIMESTAMP\n",
    "from order_reviews \n",
    "GROUP BY 1\n",
    ")\n",
    ",review AS\n",
    "(\n",
    "select \n",
    "rev.order_id,\n",
    "rev.review_score\n",
    "from order_reviews  rev\n",
    "inner join max_dates  dat on rev.REVIEW_ANSWER_TIMESTAMP = dat.REVIEW_ANSWER_TIMESTAMP  AND rev.order_id = dat.order_id \n",
    ")\n",
    ",o_sellers AS\n",
    "(\n",
    "select distinct\n",
    "order_id,\n",
    "seller_id\n",
    "from order_items\n",
    "group by 1,2\n",
    ")\n",
    "\n",
    "SELECT\n",
    "seller_id,\n",
    "avg(re.review_score) review_score,\n",
    "count(distinct oi.order_id) as total_orders\n",
    "FROM review re\n",
    "inner join order_items oi on re.order_id = oi.order_id\n",
    "group by 1 order by 2\n",
    "\n",
    "\"\"\""
   ]
  },
  {
   "cell_type": "code",
   "execution_count": 36,
   "metadata": {},
   "outputs": [],
   "source": [
    "seller_review = runQueryDF(sql)"
   ]
  },
  {
   "cell_type": "code",
   "execution_count": 37,
   "metadata": {},
   "outputs": [
    {
     "data": {
      "text/html": [
       "<div>\n",
       "<style scoped>\n",
       "    .dataframe tbody tr th:only-of-type {\n",
       "        vertical-align: middle;\n",
       "    }\n",
       "\n",
       "    .dataframe tbody tr th {\n",
       "        vertical-align: top;\n",
       "    }\n",
       "\n",
       "    .dataframe thead th {\n",
       "        text-align: right;\n",
       "    }\n",
       "</style>\n",
       "<table border=\"1\" class=\"dataframe\">\n",
       "  <thead>\n",
       "    <tr style=\"text-align: right;\">\n",
       "      <th></th>\n",
       "      <th>seller_id</th>\n",
       "      <th>review_score</th>\n",
       "      <th>total_orders</th>\n",
       "    </tr>\n",
       "  </thead>\n",
       "  <tbody>\n",
       "    <tr>\n",
       "      <th>0</th>\n",
       "      <td>6e85dc5ecd97a61094b89b046a509d8e</td>\n",
       "      <td>1.000000</td>\n",
       "      <td>1</td>\n",
       "    </tr>\n",
       "    <tr>\n",
       "      <th>1</th>\n",
       "      <td>7a073a40a9d3f1fee8bc45670ea1e909</td>\n",
       "      <td>1.000000</td>\n",
       "      <td>1</td>\n",
       "    </tr>\n",
       "    <tr>\n",
       "      <th>2</th>\n",
       "      <td>3a79f35a2344ede41af21267f61d5ec6</td>\n",
       "      <td>1.000000</td>\n",
       "      <td>1</td>\n",
       "    </tr>\n",
       "    <tr>\n",
       "      <th>3</th>\n",
       "      <td>913fd0ebba70bb919f7254a02239173c</td>\n",
       "      <td>1.000000</td>\n",
       "      <td>1</td>\n",
       "    </tr>\n",
       "    <tr>\n",
       "      <th>4</th>\n",
       "      <td>1967a9e2ad6f51802b093147d861df58</td>\n",
       "      <td>1.000000</td>\n",
       "      <td>2</td>\n",
       "    </tr>\n",
       "  </tbody>\n",
       "</table>\n",
       "</div>"
      ],
      "text/plain": [
       "                          seller_id review_score  total_orders\n",
       "0  6e85dc5ecd97a61094b89b046a509d8e     1.000000             1\n",
       "1  7a073a40a9d3f1fee8bc45670ea1e909     1.000000             1\n",
       "2  3a79f35a2344ede41af21267f61d5ec6     1.000000             1\n",
       "3  913fd0ebba70bb919f7254a02239173c     1.000000             1\n",
       "4  1967a9e2ad6f51802b093147d861df58     1.000000             2"
      ]
     },
     "execution_count": 37,
     "metadata": {},
     "output_type": "execute_result"
    }
   ],
   "source": [
    "seller_review.head()"
   ]
  },
  {
   "cell_type": "code",
   "execution_count": 40,
   "metadata": {},
   "outputs": [
    {
     "ename": "ValueError",
     "evalue": "max() arg is an empty sequence",
     "output_type": "error",
     "traceback": [
      "\u001b[0;31m---------------------------------------------------------------------------\u001b[0m",
      "\u001b[0;31mValueError\u001b[0m                                Traceback (most recent call last)",
      "\u001b[0;32m<ipython-input-40-cad81a4a3348>\u001b[0m in \u001b[0;36m<module>\u001b[0;34m\u001b[0m\n\u001b[1;32m     12\u001b[0m \u001b[0;34m\u001b[0m\u001b[0m\n\u001b[1;32m     13\u001b[0m plt.text(x = seller_review['review_score'].mean(), # x-coordinate position of data label, adjusted to be 3 right of the data point\n\u001b[0;32m---> 14\u001b[0;31m  \u001b[0my\u001b[0m \u001b[0;34m=\u001b[0m \u001b[0mmax\u001b[0m\u001b[0;34m(\u001b[0m\u001b[0;34m[\u001b[0m\u001b[0mh\u001b[0m\u001b[0;34m.\u001b[0m\u001b[0mget_height\u001b[0m\u001b[0;34m(\u001b[0m\u001b[0;34m)\u001b[0m \u001b[0;32mfor\u001b[0m \u001b[0mh\u001b[0m \u001b[0;32min\u001b[0m \u001b[0max\u001b[0m\u001b[0;34m.\u001b[0m\u001b[0mpatches\u001b[0m\u001b[0;34m]\u001b[0m\u001b[0;34m)\u001b[0m\u001b[0;34m,\u001b[0m \u001b[0;31m# y-coordinate position of data label, to take max height\u001b[0m\u001b[0;34m\u001b[0m\u001b[0;34m\u001b[0m\u001b[0m\n\u001b[0m\u001b[1;32m     15\u001b[0m  \u001b[0ms\u001b[0m \u001b[0;34m=\u001b[0m \u001b[0;34m'mean: {:.0f}'\u001b[0m\u001b[0;34m.\u001b[0m\u001b[0mformat\u001b[0m\u001b[0;34m(\u001b[0m\u001b[0mseller_review\u001b[0m\u001b[0;34m[\u001b[0m\u001b[0;34m'review_score'\u001b[0m\u001b[0;34m]\u001b[0m\u001b[0;34m.\u001b[0m\u001b[0mmean\u001b[0m\u001b[0;34m(\u001b[0m\u001b[0;34m)\u001b[0m\u001b[0;34m)\u001b[0m\u001b[0;34m,\u001b[0m \u001b[0;31m# data label\u001b[0m\u001b[0;34m\u001b[0m\u001b[0;34m\u001b[0m\u001b[0m\n\u001b[1;32m     16\u001b[0m  color = 'purple') # colour of the vertical mean line\n",
      "\u001b[0;31mValueError\u001b[0m: max() arg is an empty sequence"
     ]
    },
    {
     "data": {
      "image/png": "[encoded data removed]",
      "text/plain": [
       "<Figure size 1080x504 with 1 Axes>"
      ]
     },
     "metadata": {},
     "output_type": "display_data"
    }
   ],
   "source": [
    "## Seller rating and orders \n",
    "\n",
    "sns.set(rc={'figure.figsize':(15,7)})\n",
    "\n",
    "\n",
    "\n",
    "\n",
    "ax=sns.scatterplot(data=seller_review, x=\"review_score\", y=\"total_orders\")\n",
    "plt.axvline(seller_review['review_score'].mean(), color='purple', label='Mean') ##Add Mean of review sellers\n",
    "# plt.axvline(seller_review['review_score'].median(), color='blue', label='Mean') ##Add Median of review sellers\n",
    "\n",
    "\n",
    "plt.text(x = seller_review['review_score'].mean(), # x-coordinate position of data label, adjusted to be 3 right of the data point\n",
    " y = max([h.get_height() for h in ax.patches]), # y-coordinate position of data label, to take max height \n",
    " s = 'mean: {:.0f}'.format(seller_review['review_score'].mean()), # data label\n",
    " color = 'purple') # colour of the vertical mean line\n",
    "\n",
    "# plt.savefig(\"selerres_review_scatter.png\")"
   ]
  },
  {
   "cell_type": "code",
   "execution_count": 41,
   "metadata": {},
   "outputs": [
    {
     "data": {
      "text/plain": [
       "-0.33424282545468154"
      ]
     },
     "execution_count": 41,
     "metadata": {},
     "output_type": "execute_result"
    }
   ],
   "source": [
    "corr = df_orders.time_duration.corr(df_orders.review_score)\n",
    "corr"
   ]
  },
  {
   "cell_type": "code",
   "execution_count": 45,
   "metadata": {},
   "outputs": [
    {
     "data": {
      "text/plain": [
       "Text(0, 0.5, 'percentage of reviews')"
      ]
     },
     "execution_count": 45,
     "metadata": {},
     "output_type": "execute_result"
    },
    {
     "data": {
      "image/png": "[encoded data removed]",
      "text/plain": [
       "<Figure size 1080x504 with 1 Axes>"
      ]
     },
     "metadata": {},
     "output_type": "display_data"
    }
   ],
   "source": [
    "temp=df_orders.groupby(['time_duration','review_score'])['order_id'].count().reset_index()\n",
    "temp2=temp.pivot_table(index=('time_duration'),columns=('review_score'),values='order_id').reset_index()\n",
    "temp2=temp2.fillna(0)\n",
    "temp2=temp2[(temp2.time_duration<60)]\n",
    "temp2['Suma']=temp2[1]+temp2[2]+temp2[3]+temp2[4]+temp2[5]\n",
    "x= temp2[[1,2,3,4,5]].div(temp2.Suma, axis=0)\n",
    "x.plot(kind='bar',stacked=True, xlabel = 'Order Time Duration')\n",
    "plt.title('Order time Duration vs Review Costumer')\n",
    "plt.ylabel('percentage of reviews')"
   ]
  },
  {
   "cell_type": "code",
   "execution_count": 43,
   "metadata": {},
   "outputs": [
    {
     "data": {
      "text/html": [
       "<div>\n",
       "<style scoped>\n",
       "    .dataframe tbody tr th:only-of-type {\n",
       "        vertical-align: middle;\n",
       "    }\n",
       "\n",
       "    .dataframe tbody tr th {\n",
       "        vertical-align: top;\n",
       "    }\n",
       "\n",
       "    .dataframe thead th {\n",
       "        text-align: right;\n",
       "    }\n",
       "</style>\n",
       "<table border=\"1\" class=\"dataframe\">\n",
       "  <thead>\n",
       "    <tr style=\"text-align: right;\">\n",
       "      <th></th>\n",
       "      <th>customer_zip_code_prefix</th>\n",
       "      <th>review_score</th>\n",
       "      <th>geolocation_zip_code_prefix</th>\n",
       "      <th>geolocation_lat</th>\n",
       "      <th>geolocation_lng</th>\n",
       "      <th>Q_products</th>\n",
       "      <th>Distance</th>\n",
       "      <th>Fulfill_date</th>\n",
       "      <th>time_duration</th>\n",
       "    </tr>\n",
       "  </thead>\n",
       "  <tbody>\n",
       "    <tr>\n",
       "      <th>customer_zip_code_prefix</th>\n",
       "      <td>1.000000</td>\n",
       "      <td>-0.021832</td>\n",
       "      <td>1.000000</td>\n",
       "      <td>0.133683</td>\n",
       "      <td>-0.309541</td>\n",
       "      <td>0.022002</td>\n",
       "      <td>0.487431</td>\n",
       "      <td>-0.025714</td>\n",
       "      <td>0.269650</td>\n",
       "    </tr>\n",
       "    <tr>\n",
       "      <th>review_score</th>\n",
       "      <td>-0.021832</td>\n",
       "      <td>1.000000</td>\n",
       "      <td>-0.021997</td>\n",
       "      <td>-0.042555</td>\n",
       "      <td>-0.051207</td>\n",
       "      <td>-0.092941</td>\n",
       "      <td>-0.061631</td>\n",
       "      <td>0.364878</td>\n",
       "      <td>-0.334243</td>\n",
       "    </tr>\n",
       "    <tr>\n",
       "      <th>geolocation_zip_code_prefix</th>\n",
       "      <td>1.000000</td>\n",
       "      <td>-0.021997</td>\n",
       "      <td>1.000000</td>\n",
       "      <td>0.133683</td>\n",
       "      <td>-0.309541</td>\n",
       "      <td>0.022430</td>\n",
       "      <td>0.487431</td>\n",
       "      <td>-0.025647</td>\n",
       "      <td>0.269903</td>\n",
       "    </tr>\n",
       "    <tr>\n",
       "      <th>geolocation_lat</th>\n",
       "      <td>0.133683</td>\n",
       "      <td>-0.042555</td>\n",
       "      <td>0.133683</td>\n",
       "      <td>1.000000</td>\n",
       "      <td>0.437228</td>\n",
       "      <td>0.011182</td>\n",
       "      <td>0.707289</td>\n",
       "      <td>-0.054904</td>\n",
       "      <td>0.255281</td>\n",
       "    </tr>\n",
       "    <tr>\n",
       "      <th>geolocation_lng</th>\n",
       "      <td>-0.309541</td>\n",
       "      <td>-0.051207</td>\n",
       "      <td>-0.309541</td>\n",
       "      <td>0.437228</td>\n",
       "      <td>1.000000</td>\n",
       "      <td>-0.021773</td>\n",
       "      <td>0.218023</td>\n",
       "      <td>-0.074729</td>\n",
       "      <td>0.110979</td>\n",
       "    </tr>\n",
       "    <tr>\n",
       "      <th>Q_products</th>\n",
       "      <td>0.022002</td>\n",
       "      <td>-0.092941</td>\n",
       "      <td>0.022430</td>\n",
       "      <td>0.011182</td>\n",
       "      <td>-0.021773</td>\n",
       "      <td>1.000000</td>\n",
       "      <td>-0.008704</td>\n",
       "      <td>0.010403</td>\n",
       "      <td>-0.012404</td>\n",
       "    </tr>\n",
       "    <tr>\n",
       "      <th>Distance</th>\n",
       "      <td>0.487431</td>\n",
       "      <td>-0.061631</td>\n",
       "      <td>0.487431</td>\n",
       "      <td>0.707289</td>\n",
       "      <td>0.218023</td>\n",
       "      <td>-0.008704</td>\n",
       "      <td>1.000000</td>\n",
       "      <td>-0.067575</td>\n",
       "      <td>0.389296</td>\n",
       "    </tr>\n",
       "    <tr>\n",
       "      <th>Fulfill_date</th>\n",
       "      <td>-0.025714</td>\n",
       "      <td>0.364878</td>\n",
       "      <td>-0.025647</td>\n",
       "      <td>-0.054904</td>\n",
       "      <td>-0.074729</td>\n",
       "      <td>0.010403</td>\n",
       "      <td>-0.067575</td>\n",
       "      <td>1.000000</td>\n",
       "      <td>-0.591866</td>\n",
       "    </tr>\n",
       "    <tr>\n",
       "      <th>time_duration</th>\n",
       "      <td>0.269650</td>\n",
       "      <td>-0.334243</td>\n",
       "      <td>0.269903</td>\n",
       "      <td>0.255281</td>\n",
       "      <td>0.110979</td>\n",
       "      <td>-0.012404</td>\n",
       "      <td>0.389296</td>\n",
       "      <td>-0.591866</td>\n",
       "      <td>1.000000</td>\n",
       "    </tr>\n",
       "  </tbody>\n",
       "</table>\n",
       "</div>"
      ],
      "text/plain": [
       "                             customer_zip_code_prefix  review_score  \\\n",
       "customer_zip_code_prefix                     1.000000     -0.021832   \n",
       "review_score                                -0.021832      1.000000   \n",
       "geolocation_zip_code_prefix                  1.000000     -0.021997   \n",
       "geolocation_lat                              0.133683     -0.042555   \n",
       "geolocation_lng                             -0.309541     -0.051207   \n",
       "Q_products                                   0.022002     -0.092941   \n",
       "Distance                                     0.487431     -0.061631   \n",
       "Fulfill_date                                -0.025714      0.364878   \n",
       "time_duration                                0.269650     -0.334243   \n",
       "\n",
       "                             geolocation_zip_code_prefix  geolocation_lat  \\\n",
       "customer_zip_code_prefix                        1.000000         0.133683   \n",
       "review_score                                   -0.021997        -0.042555   \n",
       "geolocation_zip_code_prefix                     1.000000         0.133683   \n",
       "geolocation_lat                                 0.133683         1.000000   \n",
       "geolocation_lng                                -0.309541         0.437228   \n",
       "Q_products                                      0.022430         0.011182   \n",
       "Distance                                        0.487431         0.707289   \n",
       "Fulfill_date                                   -0.025647        -0.054904   \n",
       "time_duration                                   0.269903         0.255281   \n",
       "\n",
       "                             geolocation_lng  Q_products  Distance  \\\n",
       "customer_zip_code_prefix           -0.309541    0.022002  0.487431   \n",
       "review_score                       -0.051207   -0.092941 -0.061631   \n",
       "geolocation_zip_code_prefix        -0.309541    0.022430  0.487431   \n",
       "geolocation_lat                     0.437228    0.011182  0.707289   \n",
       "geolocation_lng                     1.000000   -0.021773  0.218023   \n",
       "Q_products                         -0.021773    1.000000 -0.008704   \n",
       "Distance                            0.218023   -0.008704  1.000000   \n",
       "Fulfill_date                       -0.074729    0.010403 -0.067575   \n",
       "time_duration                       0.110979   -0.012404  0.389296   \n",
       "\n",
       "                             Fulfill_date  time_duration  \n",
       "customer_zip_code_prefix        -0.025714       0.269650  \n",
       "review_score                     0.364878      -0.334243  \n",
       "geolocation_zip_code_prefix     -0.025647       0.269903  \n",
       "geolocation_lat                 -0.054904       0.255281  \n",
       "geolocation_lng                 -0.074729       0.110979  \n",
       "Q_products                       0.010403      -0.012404  \n",
       "Distance                        -0.067575       0.389296  \n",
       "Fulfill_date                     1.000000      -0.591866  \n",
       "time_duration                   -0.591866       1.000000  "
      ]
     },
     "execution_count": 43,
     "metadata": {},
     "output_type": "execute_result"
    }
   ],
   "source": [
    "corr_mat  = df_orders.corr()\n",
    "corr_mat"
   ]
  },
  {
   "cell_type": "code",
   "execution_count": 46,
   "metadata": {},
   "outputs": [],
   "source": [
    "sql = \"\"\"\n",
    "select * from data_orders\n",
    "\"\"\"\n",
    "data_orders = runQueryDF(sql)\n"
   ]
  },
  {
   "cell_type": "code",
   "execution_count": 47,
   "metadata": {},
   "outputs": [],
   "source": [
    "df_orders=df_orders.merge(data_orders[['order_id','seller_rating','seller_total_orders']],how='left',on='order_id')\n",
    "df_orders.seller_rating=df_orders.seller_rating.apply(float)"
   ]
  },
  {
   "cell_type": "markdown",
   "metadata": {},
   "source": [
    "3.B0 = comprarle a un seller con reviews altos no determina que la calificación del costumer sea acorde."
   ]
  },
  {
   "cell_type": "code",
   "execution_count": 48,
   "metadata": {},
   "outputs": [
    {
     "name": "stdout",
     "output_type": "stream",
     "text": [
      "p-value of Chi-square test for Time between Purchase and Delivery vs. Single Order Review Score = 0.0\n"
     ]
    },
    {
     "data": {
      "text/html": [
       "<div>\n",
       "<style scoped>\n",
       "    .dataframe tbody tr th:only-of-type {\n",
       "        vertical-align: middle;\n",
       "    }\n",
       "\n",
       "    .dataframe tbody tr th {\n",
       "        vertical-align: top;\n",
       "    }\n",
       "\n",
       "    .dataframe thead th {\n",
       "        text-align: right;\n",
       "    }\n",
       "</style>\n",
       "<table border=\"1\" class=\"dataframe\">\n",
       "  <thead>\n",
       "    <tr style=\"text-align: right;\">\n",
       "      <th>review_score</th>\n",
       "      <th>1</th>\n",
       "      <th>2</th>\n",
       "      <th>3</th>\n",
       "      <th>4</th>\n",
       "      <th>5</th>\n",
       "    </tr>\n",
       "    <tr>\n",
       "      <th>time_duration</th>\n",
       "      <th></th>\n",
       "      <th></th>\n",
       "      <th></th>\n",
       "      <th></th>\n",
       "      <th></th>\n",
       "    </tr>\n",
       "  </thead>\n",
       "  <tbody>\n",
       "    <tr>\n",
       "      <th>0.0</th>\n",
       "      <td>1</td>\n",
       "      <td>0</td>\n",
       "      <td>2</td>\n",
       "      <td>2</td>\n",
       "      <td>8</td>\n",
       "    </tr>\n",
       "    <tr>\n",
       "      <th>1.0</th>\n",
       "      <td>86</td>\n",
       "      <td>44</td>\n",
       "      <td>83</td>\n",
       "      <td>236</td>\n",
       "      <td>1200</td>\n",
       "    </tr>\n",
       "    <tr>\n",
       "      <th>2.0</th>\n",
       "      <td>177</td>\n",
       "      <td>73</td>\n",
       "      <td>195</td>\n",
       "      <td>554</td>\n",
       "      <td>2323</td>\n",
       "    </tr>\n",
       "    <tr>\n",
       "      <th>3.0</th>\n",
       "      <td>263</td>\n",
       "      <td>99</td>\n",
       "      <td>244</td>\n",
       "      <td>655</td>\n",
       "      <td>2829</td>\n",
       "    </tr>\n",
       "    <tr>\n",
       "      <th>4.0</th>\n",
       "      <td>301</td>\n",
       "      <td>120</td>\n",
       "      <td>325</td>\n",
       "      <td>954</td>\n",
       "      <td>3431</td>\n",
       "    </tr>\n",
       "    <tr>\n",
       "      <th>...</th>\n",
       "      <td>...</td>\n",
       "      <td>...</td>\n",
       "      <td>...</td>\n",
       "      <td>...</td>\n",
       "      <td>...</td>\n",
       "    </tr>\n",
       "    <tr>\n",
       "      <th>191.0</th>\n",
       "      <td>1</td>\n",
       "      <td>0</td>\n",
       "      <td>0</td>\n",
       "      <td>0</td>\n",
       "      <td>0</td>\n",
       "    </tr>\n",
       "    <tr>\n",
       "      <th>194.0</th>\n",
       "      <td>1</td>\n",
       "      <td>0</td>\n",
       "      <td>0</td>\n",
       "      <td>2</td>\n",
       "      <td>0</td>\n",
       "    </tr>\n",
       "    <tr>\n",
       "      <th>195.0</th>\n",
       "      <td>1</td>\n",
       "      <td>0</td>\n",
       "      <td>0</td>\n",
       "      <td>0</td>\n",
       "      <td>0</td>\n",
       "    </tr>\n",
       "    <tr>\n",
       "      <th>208.0</th>\n",
       "      <td>0</td>\n",
       "      <td>1</td>\n",
       "      <td>0</td>\n",
       "      <td>0</td>\n",
       "      <td>0</td>\n",
       "    </tr>\n",
       "    <tr>\n",
       "      <th>209.0</th>\n",
       "      <td>1</td>\n",
       "      <td>0</td>\n",
       "      <td>0</td>\n",
       "      <td>0</td>\n",
       "      <td>0</td>\n",
       "    </tr>\n",
       "  </tbody>\n",
       "</table>\n",
       "<p>146 rows × 5 columns</p>\n",
       "</div>"
      ],
      "text/plain": [
       "review_score     1    2    3    4     5\n",
       "time_duration                          \n",
       "0.0              1    0    2    2     8\n",
       "1.0             86   44   83  236  1200\n",
       "2.0            177   73  195  554  2323\n",
       "3.0            263   99  244  655  2829\n",
       "4.0            301  120  325  954  3431\n",
       "...            ...  ...  ...  ...   ...\n",
       "191.0            1    0    0    0     0\n",
       "194.0            1    0    0    2     0\n",
       "195.0            1    0    0    0     0\n",
       "208.0            0    1    0    0     0\n",
       "209.0            1    0    0    0     0\n",
       "\n",
       "[146 rows x 5 columns]"
      ]
     },
     "execution_count": 48,
     "metadata": {},
     "output_type": "execute_result"
    }
   ],
   "source": [
    "chi_time_duration=pd.crosstab(df_orders['time_duration'],df_orders['review_score'])\n",
    "g, p, dof, expctd = chi2_contingency(chi_time_duration)\n",
    "print(\"p-value of Chi-square test for Time between Purchase and Delivery vs. Single Order Review Score =\", p)\n",
    "chi_time_duration"
   ]
  },
  {
   "cell_type": "code",
   "execution_count": 49,
   "metadata": {},
   "outputs": [
    {
     "name": "stdout",
     "output_type": "stream",
     "text": [
      "p-value of Chi-square test for Seller Average Rating vs. Single Order Review Score = 0.0\n"
     ]
    },
    {
     "data": {
      "text/html": [
       "<div>\n",
       "<style scoped>\n",
       "    .dataframe tbody tr th:only-of-type {\n",
       "        vertical-align: middle;\n",
       "    }\n",
       "\n",
       "    .dataframe tbody tr th {\n",
       "        vertical-align: top;\n",
       "    }\n",
       "\n",
       "    .dataframe thead th {\n",
       "        text-align: right;\n",
       "    }\n",
       "</style>\n",
       "<table border=\"1\" class=\"dataframe\">\n",
       "  <thead>\n",
       "    <tr style=\"text-align: right;\">\n",
       "      <th>review_score</th>\n",
       "      <th>1</th>\n",
       "      <th>2</th>\n",
       "      <th>3</th>\n",
       "      <th>4</th>\n",
       "      <th>5</th>\n",
       "    </tr>\n",
       "    <tr>\n",
       "      <th>seller_rating</th>\n",
       "      <th></th>\n",
       "      <th></th>\n",
       "      <th></th>\n",
       "      <th></th>\n",
       "      <th></th>\n",
       "    </tr>\n",
       "  </thead>\n",
       "  <tbody>\n",
       "    <tr>\n",
       "      <th>1.000000</th>\n",
       "      <td>70</td>\n",
       "      <td>0</td>\n",
       "      <td>0</td>\n",
       "      <td>0</td>\n",
       "      <td>0</td>\n",
       "    </tr>\n",
       "    <tr>\n",
       "      <th>1.250000</th>\n",
       "      <td>3</td>\n",
       "      <td>1</td>\n",
       "      <td>0</td>\n",
       "      <td>0</td>\n",
       "      <td>0</td>\n",
       "    </tr>\n",
       "    <tr>\n",
       "      <th>1.400000</th>\n",
       "      <td>2</td>\n",
       "      <td>0</td>\n",
       "      <td>1</td>\n",
       "      <td>0</td>\n",
       "      <td>0</td>\n",
       "    </tr>\n",
       "    <tr>\n",
       "      <th>1.500000</th>\n",
       "      <td>5</td>\n",
       "      <td>3</td>\n",
       "      <td>1</td>\n",
       "      <td>0</td>\n",
       "      <td>0</td>\n",
       "    </tr>\n",
       "    <tr>\n",
       "      <th>1.571429</th>\n",
       "      <td>5</td>\n",
       "      <td>0</td>\n",
       "      <td>1</td>\n",
       "      <td>0</td>\n",
       "      <td>0</td>\n",
       "    </tr>\n",
       "    <tr>\n",
       "      <th>...</th>\n",
       "      <td>...</td>\n",
       "      <td>...</td>\n",
       "      <td>...</td>\n",
       "      <td>...</td>\n",
       "      <td>...</td>\n",
       "    </tr>\n",
       "    <tr>\n",
       "      <th>4.909091</th>\n",
       "      <td>0</td>\n",
       "      <td>0</td>\n",
       "      <td>0</td>\n",
       "      <td>3</td>\n",
       "      <td>31</td>\n",
       "    </tr>\n",
       "    <tr>\n",
       "      <th>4.923077</th>\n",
       "      <td>0</td>\n",
       "      <td>0</td>\n",
       "      <td>0</td>\n",
       "      <td>2</td>\n",
       "      <td>25</td>\n",
       "    </tr>\n",
       "    <tr>\n",
       "      <th>4.947368</th>\n",
       "      <td>0</td>\n",
       "      <td>0</td>\n",
       "      <td>0</td>\n",
       "      <td>1</td>\n",
       "      <td>20</td>\n",
       "    </tr>\n",
       "    <tr>\n",
       "      <th>4.950000</th>\n",
       "      <td>0</td>\n",
       "      <td>0</td>\n",
       "      <td>0</td>\n",
       "      <td>1</td>\n",
       "      <td>19</td>\n",
       "    </tr>\n",
       "    <tr>\n",
       "      <th>5.000000</th>\n",
       "      <td>0</td>\n",
       "      <td>0</td>\n",
       "      <td>0</td>\n",
       "      <td>0</td>\n",
       "      <td>963</td>\n",
       "    </tr>\n",
       "  </tbody>\n",
       "</table>\n",
       "<p>744 rows × 5 columns</p>\n",
       "</div>"
      ],
      "text/plain": [
       "review_score    1  2  3  4    5\n",
       "seller_rating                  \n",
       "1.000000       70  0  0  0    0\n",
       "1.250000        3  1  0  0    0\n",
       "1.400000        2  0  1  0    0\n",
       "1.500000        5  3  1  0    0\n",
       "1.571429        5  0  1  0    0\n",
       "...            .. .. .. ..  ...\n",
       "4.909091        0  0  0  3   31\n",
       "4.923077        0  0  0  2   25\n",
       "4.947368        0  0  0  1   20\n",
       "4.950000        0  0  0  1   19\n",
       "5.000000        0  0  0  0  963\n",
       "\n",
       "[744 rows x 5 columns]"
      ]
     },
     "execution_count": 49,
     "metadata": {},
     "output_type": "execute_result"
    }
   ],
   "source": [
    "chi_seller_rating=pd.crosstab(df_orders['seller_rating'],df_orders['review_score'])\n",
    "g, p, dof, expctd = chi2_contingency(chi_seller_rating)\n",
    "print(\"p-value of Chi-square test for Seller Average Rating vs. Single Order Review Score =\", p)\n",
    "chi_seller_rating"
   ]
  },
  {
   "cell_type": "code",
   "execution_count": 50,
   "metadata": {},
   "outputs": [
    {
     "name": "stdout",
     "output_type": "stream",
     "text": [
      "p-value of Chi-square test for Order Status vs. Single Order Review Score = 2.5372340655561122e-232\n"
     ]
    },
    {
     "data": {
      "text/html": [
       "<div>\n",
       "<style scoped>\n",
       "    .dataframe tbody tr th:only-of-type {\n",
       "        vertical-align: middle;\n",
       "    }\n",
       "\n",
       "    .dataframe tbody tr th {\n",
       "        vertical-align: top;\n",
       "    }\n",
       "\n",
       "    .dataframe thead th {\n",
       "        text-align: right;\n",
       "    }\n",
       "</style>\n",
       "<table border=\"1\" class=\"dataframe\">\n",
       "  <thead>\n",
       "    <tr style=\"text-align: right;\">\n",
       "      <th>review_score</th>\n",
       "      <th>1</th>\n",
       "      <th>2</th>\n",
       "      <th>3</th>\n",
       "      <th>4</th>\n",
       "      <th>5</th>\n",
       "    </tr>\n",
       "    <tr>\n",
       "      <th>seller_total_orders</th>\n",
       "      <th></th>\n",
       "      <th></th>\n",
       "      <th></th>\n",
       "      <th></th>\n",
       "      <th></th>\n",
       "    </tr>\n",
       "  </thead>\n",
       "  <tbody>\n",
       "    <tr>\n",
       "      <th>1</th>\n",
       "      <td>54</td>\n",
       "      <td>12</td>\n",
       "      <td>34</td>\n",
       "      <td>75</td>\n",
       "      <td>313</td>\n",
       "    </tr>\n",
       "    <tr>\n",
       "      <th>2</th>\n",
       "      <td>70</td>\n",
       "      <td>11</td>\n",
       "      <td>56</td>\n",
       "      <td>132</td>\n",
       "      <td>366</td>\n",
       "    </tr>\n",
       "    <tr>\n",
       "      <th>3</th>\n",
       "      <td>78</td>\n",
       "      <td>19</td>\n",
       "      <td>44</td>\n",
       "      <td>114</td>\n",
       "      <td>376</td>\n",
       "    </tr>\n",
       "    <tr>\n",
       "      <th>4</th>\n",
       "      <td>53</td>\n",
       "      <td>13</td>\n",
       "      <td>48</td>\n",
       "      <td>124</td>\n",
       "      <td>384</td>\n",
       "    </tr>\n",
       "    <tr>\n",
       "      <th>5</th>\n",
       "      <td>57</td>\n",
       "      <td>19</td>\n",
       "      <td>45</td>\n",
       "      <td>128</td>\n",
       "      <td>464</td>\n",
       "    </tr>\n",
       "    <tr>\n",
       "      <th>...</th>\n",
       "      <td>...</td>\n",
       "      <td>...</td>\n",
       "      <td>...</td>\n",
       "      <td>...</td>\n",
       "      <td>...</td>\n",
       "    </tr>\n",
       "    <tr>\n",
       "      <th>1314</th>\n",
       "      <td>122</td>\n",
       "      <td>47</td>\n",
       "      <td>123</td>\n",
       "      <td>278</td>\n",
       "      <td>807</td>\n",
       "    </tr>\n",
       "    <tr>\n",
       "      <th>1404</th>\n",
       "      <td>161</td>\n",
       "      <td>45</td>\n",
       "      <td>105</td>\n",
       "      <td>266</td>\n",
       "      <td>872</td>\n",
       "    </tr>\n",
       "    <tr>\n",
       "      <th>1706</th>\n",
       "      <td>172</td>\n",
       "      <td>57</td>\n",
       "      <td>173</td>\n",
       "      <td>309</td>\n",
       "      <td>1066</td>\n",
       "    </tr>\n",
       "    <tr>\n",
       "      <th>1806</th>\n",
       "      <td>261</td>\n",
       "      <td>91</td>\n",
       "      <td>239</td>\n",
       "      <td>366</td>\n",
       "      <td>902</td>\n",
       "    </tr>\n",
       "    <tr>\n",
       "      <th>1854</th>\n",
       "      <td>223</td>\n",
       "      <td>90</td>\n",
       "      <td>199</td>\n",
       "      <td>393</td>\n",
       "      <td>977</td>\n",
       "    </tr>\n",
       "  </tbody>\n",
       "</table>\n",
       "<p>251 rows × 5 columns</p>\n",
       "</div>"
      ],
      "text/plain": [
       "review_score           1   2    3    4     5\n",
       "seller_total_orders                         \n",
       "1                     54  12   34   75   313\n",
       "2                     70  11   56  132   366\n",
       "3                     78  19   44  114   376\n",
       "4                     53  13   48  124   384\n",
       "5                     57  19   45  128   464\n",
       "...                  ...  ..  ...  ...   ...\n",
       "1314                 122  47  123  278   807\n",
       "1404                 161  45  105  266   872\n",
       "1706                 172  57  173  309  1066\n",
       "1806                 261  91  239  366   902\n",
       "1854                 223  90  199  393   977\n",
       "\n",
       "[251 rows x 5 columns]"
      ]
     },
     "execution_count": 50,
     "metadata": {},
     "output_type": "execute_result"
    }
   ],
   "source": [
    "chi_seller_size=pd.crosstab(df_orders['seller_total_orders'],df_orders['review_score'])\n",
    "g, p, dof, expctd = chi2_contingency(chi_seller_size)\n",
    "print(\"p-value of Chi-square test for Order Status vs. Single Order Review Score =\", p)\n",
    "chi_seller_size"
   ]
  },
  {
   "cell_type": "code",
   "execution_count": 51,
   "metadata": {},
   "outputs": [
    {
     "name": "stdout",
     "output_type": "stream",
     "text": [
      "p-value of Chi-square test for Order Status vs. Single Order Review Score = 7.216443876631474e-06\n"
     ]
    },
    {
     "data": {
      "text/html": [
       "<div>\n",
       "<style scoped>\n",
       "    .dataframe tbody tr th:only-of-type {\n",
       "        vertical-align: middle;\n",
       "    }\n",
       "\n",
       "    .dataframe tbody tr th {\n",
       "        vertical-align: top;\n",
       "    }\n",
       "\n",
       "    .dataframe thead th {\n",
       "        text-align: right;\n",
       "    }\n",
       "</style>\n",
       "<table border=\"1\" class=\"dataframe\">\n",
       "  <thead>\n",
       "    <tr style=\"text-align: right;\">\n",
       "      <th>review_score</th>\n",
       "      <th>1</th>\n",
       "      <th>2</th>\n",
       "      <th>3</th>\n",
       "      <th>4</th>\n",
       "      <th>5</th>\n",
       "    </tr>\n",
       "    <tr>\n",
       "      <th>order_status</th>\n",
       "      <th></th>\n",
       "      <th></th>\n",
       "      <th></th>\n",
       "      <th></th>\n",
       "      <th></th>\n",
       "    </tr>\n",
       "  </thead>\n",
       "  <tbody>\n",
       "    <tr>\n",
       "      <th>canceled</th>\n",
       "      <td>5</td>\n",
       "      <td>0</td>\n",
       "      <td>1</td>\n",
       "      <td>0</td>\n",
       "      <td>1</td>\n",
       "    </tr>\n",
       "    <tr>\n",
       "      <th>delivered</th>\n",
       "      <td>10643</td>\n",
       "      <td>3292</td>\n",
       "      <td>8546</td>\n",
       "      <td>19892</td>\n",
       "      <td>59643</td>\n",
       "    </tr>\n",
       "  </tbody>\n",
       "</table>\n",
       "</div>"
      ],
      "text/plain": [
       "review_score      1     2     3      4      5\n",
       "order_status                                 \n",
       "canceled          5     0     1      0      1\n",
       "delivered     10643  3292  8546  19892  59643"
      ]
     },
     "execution_count": 51,
     "metadata": {},
     "output_type": "execute_result"
    }
   ],
   "source": [
    "chi_order_status=pd.crosstab(df_orders['order_status'],df_orders['review_score'])\n",
    "g, p, dof, expctd = chi2_contingency(chi_order_status)\n",
    "print(\"p-value of Chi-square test for Order Status vs. Single Order Review Score =\", p)\n",
    "chi_order_status"
   ]
  },
  {
   "cell_type": "code",
   "execution_count": null,
   "metadata": {},
   "outputs": [],
   "source": []
  },
  {
   "cell_type": "code",
   "execution_count": 53,
   "metadata": {},
   "outputs": [
    {
     "name": "stdout",
     "output_type": "stream",
     "text": [
      "                            OLS Regression Results                            \n",
      "==============================================================================\n",
      "Dep. Variable:           review_score   R-squared:                       0.183\n",
      "Model:                            OLS   Adj. R-squared:                  0.183\n",
      "Method:                 Least Squares   F-statistic:                     7605.\n",
      "Date:                Sat, 12 Dec 2020   Prob (F-statistic):               0.00\n",
      "Time:                        12:59:40   Log-Likelihood:            -1.6218e+05\n",
      "No. Observations:              102023   AIC:                         3.244e+05\n",
      "Df Residuals:                  102019   BIC:                         3.244e+05\n",
      "Df Model:                           3                                         \n",
      "Covariance Type:            nonrobust                                         \n",
      "========================================================================================\n",
      "                           coef    std err          t      P>|t|      [0.025      0.975]\n",
      "----------------------------------------------------------------------------------------\n",
      "Intercept                0.1923      0.050      3.872      0.000       0.095       0.290\n",
      "Fulfill_date[T.True]     1.2147      0.017     71.785      0.000       1.182       1.248\n",
      "time_duration           -0.0193      0.000    -39.583      0.000      -0.020      -0.018\n",
      "seller_rating            0.7465      0.011     68.241      0.000       0.725       0.768\n",
      "==============================================================================\n",
      "Omnibus:                    18882.297   Durbin-Watson:                   1.840\n",
      "Prob(Omnibus):                  0.000   Jarque-Bera (JB):            32228.873\n",
      "Skew:                          -1.226   Prob(JB):                         0.00\n",
      "Kurtosis:                       4.252   Cond. No.                         217.\n",
      "==============================================================================\n",
      "\n",
      "Notes:\n",
      "[1] Standard Errors assume that the covariance matrix of the errors is correctly specified.\n"
     ]
    }
   ],
   "source": [
    "model1 = 'review_score~time_duration + Fulfill_date + seller_rating'\n",
    "lm1   = sm.ols(formula = model1, data = df_orders).fit()\n",
    "print(lm1.summary())"
   ]
  },
  {
   "cell_type": "code",
   "execution_count": null,
   "metadata": {},
   "outputs": [],
   "source": []
  }
 ],
 "metadata": {
  "colab": {
   "collapsed_sections": [],
   "name": "Proyecto.ipynb",
   "provenance": []
  },
  "kernelspec": {
   "display_name": "Python 3",
   "language": "python",
   "name": "python3"
  },
  "language_info": {
   "codemirror_mode": {
    "name": "ipython",
    "version": 3
   },
   "file_extension": ".py",
   "mimetype": "text/x-python",
   "name": "python",
   "nbconvert_exporter": "python",
   "pygments_lexer": "ipython3",
   "version": "3.6.7"
  }
 },
 "nbformat": 4,
 "nbformat_minor": 1
}
